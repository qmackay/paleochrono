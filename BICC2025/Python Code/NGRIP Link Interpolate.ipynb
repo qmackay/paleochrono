{
 "cells": [
  {
   "cell_type": "code",
   "execution_count": 73,
   "metadata": {},
   "outputs": [],
   "source": [
    "#data import paths\n",
    "\n",
    "import os\n",
    "import pandas as pd\n",
    "import numpy as np\n",
    "\n",
    "if os.name == 'nt':\n",
    "    windows = True\n",
    "elif os.name == 'posix':\n",
    "    windows = False\n",
    "\n",
    "if windows:\n",
    "    grip_ngrip_depths = \"E:/GitHub/BICC/Paleochrono/BICC2025/raw data/WDC-NGRIP Link Interpolation/GICC_AgeLinks.xls\"\n",
    "    grip_wdc_links = \"E:/GitHub/BICC/Paleochrono/BICC2025/raw data/WDC-NGRIP Link Interpolation/GRIP_WDC_TephraLinks.xlsx\"\n",
    "else:\n",
    "    pass"
   ]
  },
  {
   "cell_type": "code",
   "execution_count": 74,
   "metadata": {},
   "outputs": [],
   "source": [
    "grip_ngrip_depths = pd.read_excel(grip_ngrip_depths, comment=\"#\", skiprows=5, sheet_name=0, usecols=[2,3,4], names=[\"NGRIP1_Depth\", \"NGRIP2_Depth\", \"GRIP_Depth\"])\n",
    "\n",
    "ngrip1_grip_links = grip_ngrip_depths[[\"NGRIP1_Depth\", \"GRIP_Depth\"]]\n",
    "ngrip1_grip_links = ngrip1_grip_links.dropna()\n",
    "\n",
    "ngrip2_grip_links = grip_ngrip_depths[[\"NGRIP2_Depth\", \"GRIP_Depth\"]]\n",
    "ngrip2_grip_links = ngrip2_grip_links.dropna()\n",
    "\n",
    "grip_wdc_links = pd.read_excel(grip_wdc_links, comment=\"#\", skiprows=29, sheet_name=0, usecols=[0,1], names=[\"WDC_Depth\", \"GRIP_Depth\"])\n",
    "grip_wdc_links = grip_wdc_links.dropna()"
   ]
  },
  {
   "cell_type": "code",
   "execution_count": null,
   "metadata": {},
   "outputs": [],
   "source": [
    "ngrip1_wdc_links = np.interp(grip_wdc_links[\"GRIP_Depth\"], ngrip1_grip_links[\"GRIP_Depth\"], ngrip1_grip_links[\"NGRIP1_Depth\"])\n",
    "ngrip2_wdc_links = np.interp(grip_wdc_links[\"GRIP_Depth\"], ngrip2_grip_links[\"GRIP_Depth\"], ngrip2_grip_links[\"NGRIP2_Depth\"])\n",
    "\n",
    "#trim, this is done by hand but could actually make it auto if its important\n",
    "ngrip1_wdc_links[77:] = np.nan\n",
    "ngrip2_wdc_links[0:76] = np.nan\n",
    "\n",
    "export = {\n",
    "    \"#GRIP_Depth\": grip_wdc_links[\"GRIP_Depth\"],\n",
    "    \"WDC_Depth\": grip_wdc_links[\"WDC_Depth\"],\n",
    "    \"NGRIP1_Depth\": ngrip1_wdc_links,\n",
    "    \"NGRIP2_Depth\": ngrip2_wdc_links\n",
    "}\n",
    "\n",
    "export = pd.DataFrame(export)\n",
    "export.to_excel(\"E:/GitHub/BICC/Paleochrono/BICC2025/raw data/WDC-NGRIP Link Interpolation/EXPORT_GRIP_WDC_NGRIP_Links.xlsx\", index=False)"
   ]
  },
  {
   "cell_type": "code",
   "execution_count": null,
   "metadata": {},
   "outputs": [],
   "source": [
    "##new Jul 16 2025 for multi-NGRIP"
   ]
  },
  {
   "cell_type": "code",
   "execution_count": 32,
   "metadata": {},
   "outputs": [],
   "source": [
    "#load the data\n",
    "\n",
    "import os\n",
    "import pandas as pd\n",
    "import numpy as np\n",
    "\n",
    "os.chdir('/Users/quinnmackay/Documents/GitHub/paleochrono/BICC2025/raw data/WDC-NGRIP Link Interpolation/')\n",
    "\n",
    "gicc05_scale = pd.read_csv('GICC05 data/datasets/GICC05_time_scale.tab', skiprows=40, delimiter='\\t')\n",
    "\n",
    "gicc21_scale = pd.read_excel('GICC05-GICC21 Conversion.xlsx', sheet_name=1, skiprows=1, \n",
    "                             names=['Age b2k', 'dt yrs', 'yrs CE/BCE', 'EGRIP m', 'NEEM m', \n",
    "                                    'NGRIP1 m', 'NGRIP2 m', 'NEEM2011-S1 m', 'GRIP m', \n",
    "                                    'DYE3-79 m', 'DYE3-4B m', 'DYE3-18C m'])\n",
    "\n",
    "grip_wdc_tephra = pd.read_excel('GRIP_WDC_TephraLinks.xlsx', skiprows=29, names=['WDC m', 'GRIP m', \"WD2014 age iso\", 'WD2014 age yr bp 1950', 'GICC05 age', 'age diff yr', 'GRIP dz/dt', 'distance', 'type'], usecols = range(9))\n",
    "\n"
   ]
  },
  {
   "cell_type": "code",
   "execution_count": null,
   "metadata": {},
   "outputs": [],
   "source": []
  },
  {
   "cell_type": "markdown",
   "metadata": {},
   "source": [
    "NGRIP1 GICC21 until 730 (159.345), NGRIP2 GICC21 until 3245 (582.400)\n",
    "\n",
    "NGRIP1 GICC05 until 9527 (1346.87), NGRIP2 GICC05 until end"
   ]
  },
  {
   "cell_type": "code",
   "execution_count": 80,
   "metadata": {},
   "outputs": [],
   "source": [
    "#get interpolates\n",
    "\n",
    "gicc05_ngrip1 = np.interp(grip_wdc_tephra['GRIP m'], gicc05_scale['Depth ice/snow [m] (GRIP)'], gicc05_scale['Depth ice/snow [m] (NGRIP1)'])\n",
    "\n",
    "gicc05_ngrip2 = np.interp(grip_wdc_tephra['GRIP m'], gicc05_scale['Depth ice/snow [m] (GRIP)'], gicc05_scale['Depth ice/snow [m] (NGRIP2)'])\n",
    "\n",
    "gicc21_ngrip1 = np.interp(grip_wdc_tephra['GRIP m'], gicc21_scale['GRIP m'], gicc21_scale['NGRIP1 m'])\n",
    "\n",
    "gicc21_ngrip2 = np.interp(grip_wdc_tephra['GRIP m'], gicc21_scale['GRIP m'], gicc21_scale['NGRIP2 m'])\n",
    "\n",
    "#create match array\n",
    "\n",
    "ngrip_match_points = []\n",
    "\n",
    "#not super accurate but will have to do\n",
    "for val in gicc21_ngrip1:\n",
    "    if val <= 159.345:\n",
    "        ngrip_match_points.append(val)\n",
    "\n",
    "for val in gicc21_ngrip2:\n",
    "    if val > 159.345 and val <= 582.400:\n",
    "        ngrip_match_points.append(val)\n",
    "\n",
    "for val in gicc05_ngrip1:\n",
    "    if val > 582.400 and val <= 1346.87:\n",
    "        ngrip_match_points.append(val)\n",
    "\n",
    "for val in gicc05_ngrip2:\n",
    "    if val > 1346.87:\n",
    "        ngrip_match_points.append(val)\n",
    "\n",
    "uncertainty_col = 20*np.ones(len(ngrip_match_points))\n",
    "\n",
    "for i, val in enumerate(uncertainty_col):\n",
    "    if i >20:\n",
    "        uncertainty_col[i] = uncertainty_col[i]*5\n"
   ]
  },
  {
   "cell_type": "code",
   "execution_count": 81,
   "metadata": {},
   "outputs": [],
   "source": [
    "output_matchpoints = pd.DataFrame({\n",
    "    'depth1': ngrip_match_points, #ngrip\n",
    "    'depth2': grip_wdc_tephra['WDC m'], #wdc\n",
    "    'age_unc': uncertainty_col\n",
    "    })"
   ]
  },
  {
   "cell_type": "code",
   "execution_count": 82,
   "metadata": {},
   "outputs": [],
   "source": [
    "output_matchpoints.to_csv('/Users/quinnmackay/Documents/GitHub/paleochrono/BICC2025/NGRIP-WDC/iceice_synchro_horizons.txt', index=None, sep='\\t')"
   ]
  }
 ],
 "metadata": {
  "kernelspec": {
   "display_name": "bicc",
   "language": "python",
   "name": "python3"
  },
  "language_info": {
   "codemirror_mode": {
    "name": "ipython",
    "version": 3
   },
   "file_extension": ".py",
   "mimetype": "text/x-python",
   "name": "python",
   "nbconvert_exporter": "python",
   "pygments_lexer": "ipython3",
   "version": "3.13.2"
  }
 },
 "nbformat": 4,
 "nbformat_minor": 2
}
