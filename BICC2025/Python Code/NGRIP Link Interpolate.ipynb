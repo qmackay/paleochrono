{
 "cells": [
  {
   "cell_type": "code",
   "execution_count": 73,
   "metadata": {},
   "outputs": [],
   "source": [
    "#data import paths\n",
    "\n",
    "import os\n",
    "import pandas as pd\n",
    "import numpy as np\n",
    "\n",
    "if os.name == 'nt':\n",
    "    windows = True\n",
    "elif os.name == 'posix':\n",
    "    windows = False\n",
    "\n",
    "if windows:\n",
    "    grip_ngrip_depths = \"E:/GitHub/BICC/Paleochrono/BICC2025/raw data/WDC-NGRIP Link Interpolation/GICC_AgeLinks.xls\"\n",
    "    grip_wdc_links = \"E:/GitHub/BICC/Paleochrono/BICC2025/raw data/WDC-NGRIP Link Interpolation/GRIP_WDC_TephraLinks.xlsx\"\n",
    "else:\n",
    "    pass"
   ]
  },
  {
   "cell_type": "code",
   "execution_count": 74,
   "metadata": {},
   "outputs": [],
   "source": [
    "grip_ngrip_depths = pd.read_excel(grip_ngrip_depths, comment=\"#\", skiprows=5, sheet_name=0, usecols=[2,3,4], names=[\"NGRIP1_Depth\", \"NGRIP2_Depth\", \"GRIP_Depth\"])\n",
    "\n",
    "ngrip1_grip_links = grip_ngrip_depths[[\"NGRIP1_Depth\", \"GRIP_Depth\"]]\n",
    "ngrip1_grip_links = ngrip1_grip_links.dropna()\n",
    "\n",
    "ngrip2_grip_links = grip_ngrip_depths[[\"NGRIP2_Depth\", \"GRIP_Depth\"]]\n",
    "ngrip2_grip_links = ngrip2_grip_links.dropna()\n",
    "\n",
    "grip_wdc_links = pd.read_excel(grip_wdc_links, comment=\"#\", skiprows=29, sheet_name=0, usecols=[0,1], names=[\"WDC_Depth\", \"GRIP_Depth\"])\n",
    "grip_wdc_links = grip_wdc_links.dropna()"
   ]
  },
  {
   "cell_type": "code",
   "execution_count": null,
   "metadata": {},
   "outputs": [],
   "source": [
    "ngrip1_wdc_links = np.interp(grip_wdc_links[\"GRIP_Depth\"], ngrip1_grip_links[\"GRIP_Depth\"], ngrip1_grip_links[\"NGRIP1_Depth\"])\n",
    "ngrip2_wdc_links = np.interp(grip_wdc_links[\"GRIP_Depth\"], ngrip2_grip_links[\"GRIP_Depth\"], ngrip2_grip_links[\"NGRIP2_Depth\"])\n",
    "\n",
    "#trim, this is done by hand but could actually make it auto if its important\n",
    "ngrip1_wdc_links[77:] = np.nan\n",
    "ngrip2_wdc_links[0:76] = np.nan\n",
    "\n",
    "export = {\n",
    "    \"#GRIP_Depth\": grip_wdc_links[\"GRIP_Depth\"],\n",
    "    \"WDC_Depth\": grip_wdc_links[\"WDC_Depth\"],\n",
    "    \"NGRIP1_Depth\": ngrip1_wdc_links,\n",
    "    \"NGRIP2_Depth\": ngrip2_wdc_links\n",
    "}\n",
    "\n",
    "export = pd.DataFrame(export)\n",
    "export.to_excel(\"E:/GitHub/BICC/Paleochrono/BICC2025/raw data/WDC-NGRIP Link Interpolation/EXPORT_GRIP_WDC_NGRIP_Links.xlsx\", index=False)"
   ]
  }
 ],
 "metadata": {
  "kernelspec": {
   "display_name": "bicc",
   "language": "python",
   "name": "python3"
  },
  "language_info": {
   "codemirror_mode": {
    "name": "ipython",
    "version": 3
   },
   "file_extension": ".py",
   "mimetype": "text/x-python",
   "name": "python",
   "nbconvert_exporter": "python",
   "pygments_lexer": "ipython3",
   "version": "3.9.21"
  }
 },
 "nbformat": 4,
 "nbformat_minor": 2
}
